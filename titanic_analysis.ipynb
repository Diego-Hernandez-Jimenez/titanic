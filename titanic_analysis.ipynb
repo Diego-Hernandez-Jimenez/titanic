{
 "cells": [
  {
   "cell_type": "code",
   "execution_count": 8,
   "metadata": {},
   "outputs": [],
   "source": [
    "import pandas as pd\n",
    "import numpy as np\n",
    "import matplotlib.pyplot as plt\n",
    "import seaborn as sns"
   ]
  },
  {
   "cell_type": "code",
   "execution_count": 9,
   "metadata": {},
   "outputs": [
    {
     "data": {
      "text/html": [
       "<div>\n",
       "<style scoped>\n",
       "    .dataframe tbody tr th:only-of-type {\n",
       "        vertical-align: middle;\n",
       "    }\n",
       "\n",
       "    .dataframe tbody tr th {\n",
       "        vertical-align: top;\n",
       "    }\n",
       "\n",
       "    .dataframe thead th {\n",
       "        text-align: right;\n",
       "    }\n",
       "</style>\n",
       "<table border=\"1\" class=\"dataframe\">\n",
       "  <thead>\n",
       "    <tr style=\"text-align: right;\">\n",
       "      <th></th>\n",
       "      <th>PassengerId</th>\n",
       "      <th>Survived</th>\n",
       "      <th>Pclass</th>\n",
       "      <th>Name</th>\n",
       "      <th>Sex</th>\n",
       "      <th>Age</th>\n",
       "      <th>SibSp</th>\n",
       "      <th>Parch</th>\n",
       "      <th>Ticket</th>\n",
       "      <th>Fare</th>\n",
       "      <th>Cabin</th>\n",
       "      <th>Embarked</th>\n",
       "    </tr>\n",
       "  </thead>\n",
       "  <tbody>\n",
       "    <tr>\n",
       "      <th>54</th>\n",
       "      <td>55</td>\n",
       "      <td>0</td>\n",
       "      <td>1</td>\n",
       "      <td>Ostby, Mr. Engelhart Cornelius</td>\n",
       "      <td>male</td>\n",
       "      <td>65.0</td>\n",
       "      <td>0</td>\n",
       "      <td>1</td>\n",
       "      <td>113509</td>\n",
       "      <td>61.9792</td>\n",
       "      <td>B30</td>\n",
       "      <td>C</td>\n",
       "    </tr>\n",
       "    <tr>\n",
       "      <th>213</th>\n",
       "      <td>214</td>\n",
       "      <td>0</td>\n",
       "      <td>2</td>\n",
       "      <td>Givard, Mr. Hans Kristensen</td>\n",
       "      <td>male</td>\n",
       "      <td>30.0</td>\n",
       "      <td>0</td>\n",
       "      <td>0</td>\n",
       "      <td>250646</td>\n",
       "      <td>13.0000</td>\n",
       "      <td>NaN</td>\n",
       "      <td>S</td>\n",
       "    </tr>\n",
       "    <tr>\n",
       "      <th>189</th>\n",
       "      <td>190</td>\n",
       "      <td>0</td>\n",
       "      <td>3</td>\n",
       "      <td>Turcin, Mr. Stjepan</td>\n",
       "      <td>male</td>\n",
       "      <td>36.0</td>\n",
       "      <td>0</td>\n",
       "      <td>0</td>\n",
       "      <td>349247</td>\n",
       "      <td>7.8958</td>\n",
       "      <td>NaN</td>\n",
       "      <td>S</td>\n",
       "    </tr>\n",
       "    <tr>\n",
       "      <th>737</th>\n",
       "      <td>738</td>\n",
       "      <td>1</td>\n",
       "      <td>1</td>\n",
       "      <td>Lesurer, Mr. Gustave J</td>\n",
       "      <td>male</td>\n",
       "      <td>35.0</td>\n",
       "      <td>0</td>\n",
       "      <td>0</td>\n",
       "      <td>PC 17755</td>\n",
       "      <td>512.3292</td>\n",
       "      <td>B101</td>\n",
       "      <td>C</td>\n",
       "    </tr>\n",
       "    <tr>\n",
       "      <th>614</th>\n",
       "      <td>615</td>\n",
       "      <td>0</td>\n",
       "      <td>3</td>\n",
       "      <td>Brocklebank, Mr. William Alfred</td>\n",
       "      <td>male</td>\n",
       "      <td>35.0</td>\n",
       "      <td>0</td>\n",
       "      <td>0</td>\n",
       "      <td>364512</td>\n",
       "      <td>8.0500</td>\n",
       "      <td>NaN</td>\n",
       "      <td>S</td>\n",
       "    </tr>\n",
       "  </tbody>\n",
       "</table>\n",
       "</div>"
      ],
      "text/plain": [
       "     PassengerId  Survived  Pclass                             Name   Sex  \\\n",
       "54            55         0       1   Ostby, Mr. Engelhart Cornelius  male   \n",
       "213          214         0       2      Givard, Mr. Hans Kristensen  male   \n",
       "189          190         0       3              Turcin, Mr. Stjepan  male   \n",
       "737          738         1       1           Lesurer, Mr. Gustave J  male   \n",
       "614          615         0       3  Brocklebank, Mr. William Alfred  male   \n",
       "\n",
       "      Age  SibSp  Parch    Ticket      Fare Cabin Embarked  \n",
       "54   65.0      0      1    113509   61.9792   B30        C  \n",
       "213  30.0      0      0    250646   13.0000   NaN        S  \n",
       "189  36.0      0      0    349247    7.8958   NaN        S  \n",
       "737  35.0      0      0  PC 17755  512.3292  B101        C  \n",
       "614  35.0      0      0    364512    8.0500   NaN        S  "
      ]
     },
     "metadata": {},
     "output_type": "display_data"
    },
    {
     "data": {
      "text/html": [
       "<div>\n",
       "<style scoped>\n",
       "    .dataframe tbody tr th:only-of-type {\n",
       "        vertical-align: middle;\n",
       "    }\n",
       "\n",
       "    .dataframe tbody tr th {\n",
       "        vertical-align: top;\n",
       "    }\n",
       "\n",
       "    .dataframe thead th {\n",
       "        text-align: right;\n",
       "    }\n",
       "</style>\n",
       "<table border=\"1\" class=\"dataframe\">\n",
       "  <thead>\n",
       "    <tr style=\"text-align: right;\">\n",
       "      <th></th>\n",
       "      <th>PassengerId</th>\n",
       "      <th>Survived</th>\n",
       "      <th>Pclass</th>\n",
       "      <th>Age</th>\n",
       "      <th>SibSp</th>\n",
       "      <th>Parch</th>\n",
       "      <th>Fare</th>\n",
       "    </tr>\n",
       "  </thead>\n",
       "  <tbody>\n",
       "    <tr>\n",
       "      <th>count</th>\n",
       "      <td>891.000000</td>\n",
       "      <td>891.000000</td>\n",
       "      <td>891.000000</td>\n",
       "      <td>714.000000</td>\n",
       "      <td>891.000000</td>\n",
       "      <td>891.000000</td>\n",
       "      <td>891.000000</td>\n",
       "    </tr>\n",
       "    <tr>\n",
       "      <th>mean</th>\n",
       "      <td>446.000000</td>\n",
       "      <td>0.383838</td>\n",
       "      <td>2.308642</td>\n",
       "      <td>29.699118</td>\n",
       "      <td>0.523008</td>\n",
       "      <td>0.381594</td>\n",
       "      <td>32.204208</td>\n",
       "    </tr>\n",
       "    <tr>\n",
       "      <th>std</th>\n",
       "      <td>257.353842</td>\n",
       "      <td>0.486592</td>\n",
       "      <td>0.836071</td>\n",
       "      <td>14.526497</td>\n",
       "      <td>1.102743</td>\n",
       "      <td>0.806057</td>\n",
       "      <td>49.693429</td>\n",
       "    </tr>\n",
       "    <tr>\n",
       "      <th>min</th>\n",
       "      <td>1.000000</td>\n",
       "      <td>0.000000</td>\n",
       "      <td>1.000000</td>\n",
       "      <td>0.420000</td>\n",
       "      <td>0.000000</td>\n",
       "      <td>0.000000</td>\n",
       "      <td>0.000000</td>\n",
       "    </tr>\n",
       "    <tr>\n",
       "      <th>25%</th>\n",
       "      <td>223.500000</td>\n",
       "      <td>0.000000</td>\n",
       "      <td>2.000000</td>\n",
       "      <td>20.125000</td>\n",
       "      <td>0.000000</td>\n",
       "      <td>0.000000</td>\n",
       "      <td>7.910400</td>\n",
       "    </tr>\n",
       "    <tr>\n",
       "      <th>50%</th>\n",
       "      <td>446.000000</td>\n",
       "      <td>0.000000</td>\n",
       "      <td>3.000000</td>\n",
       "      <td>28.000000</td>\n",
       "      <td>0.000000</td>\n",
       "      <td>0.000000</td>\n",
       "      <td>14.454200</td>\n",
       "    </tr>\n",
       "    <tr>\n",
       "      <th>75%</th>\n",
       "      <td>668.500000</td>\n",
       "      <td>1.000000</td>\n",
       "      <td>3.000000</td>\n",
       "      <td>38.000000</td>\n",
       "      <td>1.000000</td>\n",
       "      <td>0.000000</td>\n",
       "      <td>31.000000</td>\n",
       "    </tr>\n",
       "    <tr>\n",
       "      <th>max</th>\n",
       "      <td>891.000000</td>\n",
       "      <td>1.000000</td>\n",
       "      <td>3.000000</td>\n",
       "      <td>80.000000</td>\n",
       "      <td>8.000000</td>\n",
       "      <td>6.000000</td>\n",
       "      <td>512.329200</td>\n",
       "    </tr>\n",
       "  </tbody>\n",
       "</table>\n",
       "</div>"
      ],
      "text/plain": [
       "       PassengerId    Survived      Pclass         Age       SibSp  \\\n",
       "count   891.000000  891.000000  891.000000  714.000000  891.000000   \n",
       "mean    446.000000    0.383838    2.308642   29.699118    0.523008   \n",
       "std     257.353842    0.486592    0.836071   14.526497    1.102743   \n",
       "min       1.000000    0.000000    1.000000    0.420000    0.000000   \n",
       "25%     223.500000    0.000000    2.000000   20.125000    0.000000   \n",
       "50%     446.000000    0.000000    3.000000   28.000000    0.000000   \n",
       "75%     668.500000    1.000000    3.000000   38.000000    1.000000   \n",
       "max     891.000000    1.000000    3.000000   80.000000    8.000000   \n",
       "\n",
       "            Parch        Fare  \n",
       "count  891.000000  891.000000  \n",
       "mean     0.381594   32.204208  \n",
       "std      0.806057   49.693429  \n",
       "min      0.000000    0.000000  \n",
       "25%      0.000000    7.910400  \n",
       "50%      0.000000   14.454200  \n",
       "75%      0.000000   31.000000  \n",
       "max      6.000000  512.329200  "
      ]
     },
     "execution_count": 9,
     "metadata": {},
     "output_type": "execute_result"
    }
   ],
   "source": [
    "df = pd.read_csv(r'C:\\Users\\Diego\\Desktop\\pyprojects\\a medias\\titanic\\titanictrain.csv')\n",
    "display(df.sample(5))\n",
    "df.describe()"
   ]
  },
  {
   "cell_type": "markdown",
   "metadata": {},
   "source": [
    "There are some NA values we want to take care of"
   ]
  },
  {
   "cell_type": "code",
   "execution_count": 10,
   "metadata": {},
   "outputs": [
    {
     "data": {
      "text/plain": [
       "PassengerId      0\n",
       "Survived         0\n",
       "Pclass           0\n",
       "Name             0\n",
       "Sex              0\n",
       "Age            177\n",
       "SibSp            0\n",
       "Parch            0\n",
       "Ticket           0\n",
       "Fare             0\n",
       "Cabin          687\n",
       "Embarked         2\n",
       "dtype: int64"
      ]
     },
     "metadata": {},
     "output_type": "display_data"
    },
    {
     "data": {
      "image/png": "[encoded data removed]",
      "text/plain": [
       "<Figure size 432x288 with 1 Axes>"
      ]
     },
     "metadata": {
      "needs_background": "light"
     },
     "output_type": "display_data"
    },
    {
     "data": {
      "text/plain": [
       "PassengerId      0\n",
       "Survived         0\n",
       "Pclass           0\n",
       "Name             0\n",
       "Sex              0\n",
       "Age              0\n",
       "SibSp            0\n",
       "Parch            0\n",
       "Ticket           0\n",
       "Fare             0\n",
       "Cabin          687\n",
       "Embarked         0\n",
       "dtype: int64"
      ]
     },
     "metadata": {},
     "output_type": "display_data"
    },
    {
     "data": {
      "image/png": "[encoded data removed]",
      "text/plain": [
       "<Figure size 432x288 with 1 Axes>"
      ]
     },
     "metadata": {
      "needs_background": "light"
     },
     "output_type": "display_data"
    }
   ],
   "source": [
    "display(df.apply(lambda col:col.isna().sum()))\n",
    "\n",
    "# not very skewed, we can try to impute missing values with mean in the case of age\n",
    "mean_age = df['Age'].mean()\n",
    "median_age = df['Age'].median()\n",
    "sns.distplot(df['Age'],kde=False)\n",
    "plt.axvline(mean_age,color='red',label=f'Mean age: {round(mean_age,3)}')\n",
    "plt.axvline(median_age,color='green',label=f'Median age: {round(median_age,3)}')\n",
    "plt.legend(loc='upper right')\n",
    "plt.show()\n",
    "\n",
    "df['Age'] = df['Age'].fillna(df['Age'].mean())\n",
    "df.dropna(subset=['Embarked'],inplace=True)\n",
    "\n",
    "display(df.apply(lambda col:col.isna().sum()))\n",
    "\n",
    "plt.clf()\n",
    "mean_age = df['Age'].mean()\n",
    "median_age = df['Age'].median()\n",
    "sns.distplot(df['Age'],kde=False)\n",
    "plt.axvline(mean_age,color='red',label=f'Mean age: {round(mean_age,3)}')\n",
    "plt.axvline(median_age,color='green',label=f'Median age: {round(median_age,3)}')\n",
    "plt.legend(loc='upper right')\n",
    "plt.show()\n"
   ]
  },
  {
   "cell_type": "code",
   "execution_count": 11,
   "metadata": {},
   "outputs": [],
   "source": [
    "df.reset_index(inplace=True) # just to avoid problems later (when concatenating dfs)"
   ]
  },
  {
   "cell_type": "markdown",
   "metadata": {},
   "source": [
    "## Graphical exploraory data analysis"
   ]
  },
  {
   "cell_type": "code",
   "execution_count": 12,
   "metadata": {},
   "outputs": [
    {
     "data": {
      "image/png": "[encoded data removed]",
      "text/plain": [
       "<Figure size 864x432 with 5 Axes>"
      ]
     },
     "metadata": {
      "needs_background": "light"
     },
     "output_type": "display_data"
    }
   ],
   "source": [
    "from itertools import product\n",
    "\n",
    "fig, axes = plt.subplots(2, 3, figsize=(12, 6), sharey=True)\n",
    "fig.delaxes(axes[1,2])\n",
    "for ax,feature in zip(product(range(2),range(3)),\n",
    "                      ['Sex','Pclass','Embarked','SibSp','Parch']):\n",
    "     sns.barplot(ax=axes[ax],x=feature,y='Survived',palette='Set2',data=df)"
   ]
  },
  {
   "cell_type": "code",
   "execution_count": 13,
   "metadata": {},
   "outputs": [
    {
     "data": {
      "text/plain": [
       "Sex\n",
       "female    0.740385\n",
       "male      0.188908\n",
       "Name: Survived, dtype: float64"
      ]
     },
     "metadata": {},
     "output_type": "display_data"
    },
    {
     "data": {
      "text/plain": [
       "Pclass\n",
       "1    0.626168\n",
       "2    0.472826\n",
       "3    0.242363\n",
       "Name: Survived, dtype: float64"
      ]
     },
     "metadata": {},
     "output_type": "display_data"
    },
    {
     "data": {
      "text/plain": [
       "Embarked\n",
       "C    0.553571\n",
       "Q    0.389610\n",
       "S    0.336957\n",
       "Name: Survived, dtype: float64"
      ]
     },
     "metadata": {},
     "output_type": "display_data"
    },
    {
     "data": {
      "text/plain": [
       "SibSp\n",
       "0    0.343234\n",
       "1    0.535885\n",
       "2    0.464286\n",
       "3    0.250000\n",
       "4    0.166667\n",
       "5    0.000000\n",
       "8    0.000000\n",
       "Name: Survived, dtype: float64"
      ]
     },
     "metadata": {},
     "output_type": "display_data"
    },
    {
     "data": {
      "text/plain": [
       "Parch\n",
       "0    0.341716\n",
       "1    0.550847\n",
       "2    0.500000\n",
       "3    0.600000\n",
       "4    0.000000\n",
       "5    0.200000\n",
       "6    0.000000\n",
       "Name: Survived, dtype: float64"
      ]
     },
     "metadata": {},
     "output_type": "display_data"
    }
   ],
   "source": [
    "for feature in ['Sex','Pclass','Embarked','SibSp','Parch']:\n",
    "    display(df.groupby(feature).mean()['Survived'])"
   ]
  },
  {
   "cell_type": "code",
   "execution_count": 14,
   "metadata": {},
   "outputs": [
    {
     "data": {
      "image/png": "[encoded data removed]",
      "text/plain": [
       "<Figure size 432x288 with 1 Axes>"
      ]
     },
     "metadata": {
      "needs_background": "light"
     },
     "output_type": "display_data"
    }
   ],
   "source": [
    "# maybe interaction sex-class\n",
    "sns.barplot(x='Sex',y='Survived',hue='Pclass',palette='Set2',data=df);"
   ]
  },
  {
   "cell_type": "code",
   "execution_count": 15,
   "metadata": {},
   "outputs": [
    {
     "data": {
      "text/plain": [
       "Sex     Pclass\n",
       "female  1         0.967391\n",
       "        2         0.921053\n",
       "        3         0.500000\n",
       "male    1         0.368852\n",
       "        2         0.157407\n",
       "        3         0.135447\n",
       "Name: Survived, dtype: float64"
      ]
     },
     "execution_count": 15,
     "metadata": {},
     "output_type": "execute_result"
    }
   ],
   "source": [
    "df.groupby(['Sex','Pclass']).mean()['Survived']"
   ]
  },
  {
   "cell_type": "code",
   "execution_count": null,
   "metadata": {},
   "outputs": [],
   "source": []
  },
  {
   "cell_type": "code",
   "execution_count": 16,
   "metadata": {},
   "outputs": [
    {
     "data": {
      "text/plain": [
       "Sex     Pclass  Embarked\n",
       "female  1       C           0.976744\n",
       "                Q           1.000000\n",
       "                S           0.958333\n",
       "        2       C           1.000000\n",
       "                Q           1.000000\n",
       "                S           0.910448\n",
       "        3       C           0.652174\n",
       "                Q           0.727273\n",
       "                S           0.375000\n",
       "male    1       C           0.404762\n",
       "                Q           0.000000\n",
       "                S           0.354430\n",
       "        2       C           0.200000\n",
       "                Q           0.000000\n",
       "                S           0.154639\n",
       "        3       C           0.232558\n",
       "                Q           0.076923\n",
       "                S           0.128302\n",
       "Name: Survived, dtype: float64"
      ]
     },
     "execution_count": 16,
     "metadata": {},
     "output_type": "execute_result"
    }
   ],
   "source": [
    "df.groupby(['Sex','Pclass','Embarked']).mean()['Survived']"
   ]
  },
  {
   "cell_type": "code",
   "execution_count": 17,
   "metadata": {},
   "outputs": [
    {
     "data": {
      "text/plain": [
       "<matplotlib.axes._subplots.AxesSubplot at 0x1827dc26348>"
      ]
     },
     "execution_count": 17,
     "metadata": {},
     "output_type": "execute_result"
    },
    {
     "data": {
      "image/png": "[encoded data removed]",
      "text/plain": [
       "<Figure size 864x432 with 2 Axes>"
      ]
     },
     "metadata": {
      "needs_background": "light"
     },
     "output_type": "display_data"
    }
   ],
   "source": [
    "fig,(ax1,ax2) = plt.subplots(1,2,figsize=(12, 6), sharex=False)\n",
    "sns.boxplot(ax=ax1,y='Age',x='Survived',palette='Set2',data=df)\n",
    "sns.boxplot(ax=ax2,y='Fare',x='Survived',palette='Set2',data=df)"
   ]
  },
  {
   "cell_type": "code",
   "execution_count": 18,
   "metadata": {},
   "outputs": [
    {
     "data": {
      "text/html": [
       "<div>\n",
       "<style scoped>\n",
       "    .dataframe tbody tr th:only-of-type {\n",
       "        vertical-align: middle;\n",
       "    }\n",
       "\n",
       "    .dataframe tbody tr th {\n",
       "        vertical-align: top;\n",
       "    }\n",
       "\n",
       "    .dataframe thead tr th {\n",
       "        text-align: left;\n",
       "    }\n",
       "\n",
       "    .dataframe thead tr:last-of-type th {\n",
       "        text-align: right;\n",
       "    }\n",
       "</style>\n",
       "<table border=\"1\" class=\"dataframe\">\n",
       "  <thead>\n",
       "    <tr>\n",
       "      <th></th>\n",
       "      <th colspan=\"2\" halign=\"left\">Age</th>\n",
       "      <th colspan=\"2\" halign=\"left\">Fare</th>\n",
       "    </tr>\n",
       "    <tr>\n",
       "      <th></th>\n",
       "      <th>mean</th>\n",
       "      <th>std</th>\n",
       "      <th>mean</th>\n",
       "      <th>std</th>\n",
       "    </tr>\n",
       "    <tr>\n",
       "      <th>Survived</th>\n",
       "      <th></th>\n",
       "      <th></th>\n",
       "      <th></th>\n",
       "      <th></th>\n",
       "    </tr>\n",
       "  </thead>\n",
       "  <tbody>\n",
       "    <tr>\n",
       "      <th>0</th>\n",
       "      <td>30.4151</td>\n",
       "      <td>12.457370</td>\n",
       "      <td>22.117887</td>\n",
       "      <td>31.388207</td>\n",
       "    </tr>\n",
       "    <tr>\n",
       "      <th>1</th>\n",
       "      <td>28.4236</td>\n",
       "      <td>13.682862</td>\n",
       "      <td>48.209498</td>\n",
       "      <td>66.748773</td>\n",
       "    </tr>\n",
       "  </tbody>\n",
       "</table>\n",
       "</div>"
      ],
      "text/plain": [
       "              Age                  Fare           \n",
       "             mean        std       mean        std\n",
       "Survived                                          \n",
       "0         30.4151  12.457370  22.117887  31.388207\n",
       "1         28.4236  13.682862  48.209498  66.748773"
      ]
     },
     "execution_count": 18,
     "metadata": {},
     "output_type": "execute_result"
    }
   ],
   "source": [
    "# huge variation in fares -> outliers\n",
    "df.groupby('Survived').agg(['mean','std'])[['Age','Fare']]"
   ]
  },
  {
   "cell_type": "code",
   "execution_count": 19,
   "metadata": {},
   "outputs": [
    {
     "data": {
      "text/plain": [
       "<matplotlib.axes._subplots.AxesSubplot at 0x1827dd03448>"
      ]
     },
     "execution_count": 19,
     "metadata": {},
     "output_type": "execute_result"
    },
    {
     "data": {
      "image/png": "[encoded data removed]",
      "text/plain": [
       "<Figure size 720x432 with 1 Axes>"
      ]
     },
     "metadata": {
      "needs_background": "light"
     },
     "output_type": "display_data"
    }
   ],
   "source": [
    "# no inter class-age\n",
    "fig,ax = plt.subplots(figsize=(10,6))\n",
    "sns.scatterplot(ax=ax,x='Fare',y='Age',hue='Survived',size='Pclass',palette='Set2',data=df)"
   ]
  },
  {
   "cell_type": "code",
   "execution_count": 35,
   "metadata": {},
   "outputs": [],
   "source": [
    "from sklearn.pipeline import Pipeline\n",
    "from sklearn.compose import ColumnTransformer\n",
    "from sklearn.preprocessing import OneHotEncoder,RobustScaler,QuantileTransformer\n",
    "from sklearn.impute import SimpleImputer\n",
    "from sklearn.model_selection import GridSearchCV\n",
    "from sklearn.linear_model import LogisticRegression\n",
    "from sklearn.neighbors import KNeighborsClassifier"
   ]
  },
  {
   "cell_type": "code",
   "execution_count": 36,
   "metadata": {},
   "outputs": [],
   "source": [
    "predictors = ['Age','Fare','Sex','Pclass','Embarked','SibSp','Parch']\n",
    "dummy = OneHotEncoder(handle_unknown='ignore')\n",
    "num_transformer = Pipeline(steps=[\n",
    "    ('imputer', SimpleImputer(strategy='median')),\n",
    "    ('scaler', RobustScaler())])\n",
    "\n",
    "logistic = Pipeline([\n",
    "    ('preprocess_cols',ColumnTransformer([('num_cols',RobustScaler(),['Age','Fare']),\n",
    "                                          ('cat_cols',dummy,['Sex','Pclass','Embarked','SibSp','Parch'])])\n",
    "    ),\n",
    "    ('logistic_model',LogisticRegression(max_iter=1000))\n",
    "])\n",
    "cv = GridSearchCV(logistic,                               \n",
    "            param_grid={'logistic_model__C': np.logspace(-3,3,7)},# [0.001,0.01,0.1,1,10,100,1000]\n",
    "             cv=10)\n",
    "\n",
    "cv.fit(df[predictors],df['Survived']);"
   ]
  },
  {
   "cell_type": "code",
   "execution_count": 38,
   "metadata": {},
   "outputs": [
    {
     "data": {
      "text/plain": [
       "\"best penalty parameter:{'logistic_model__C': 100.0}\""
      ]
     },
     "metadata": {},
     "output_type": "display_data"
    },
    {
     "data": {
      "text/plain": [
       "'best score:0.8032'"
      ]
     },
     "metadata": {},
     "output_type": "display_data"
    }
   ],
   "source": [
    "display(f'best penalty parameter:{cv.best_params_}')\n",
    "display(f'best score:{round(cv.best_score_,4)}')"
   ]
  },
  {
   "cell_type": "code",
   "execution_count": 24,
   "metadata": {},
   "outputs": [
    {
     "data": {
      "text/html": [
       "<div>\n",
       "<style scoped>\n",
       "    .dataframe tbody tr th:only-of-type {\n",
       "        vertical-align: middle;\n",
       "    }\n",
       "\n",
       "    .dataframe tbody tr th {\n",
       "        vertical-align: top;\n",
       "    }\n",
       "\n",
       "    .dataframe thead th {\n",
       "        text-align: right;\n",
       "    }\n",
       "</style>\n",
       "<table border=\"1\" class=\"dataframe\">\n",
       "  <thead>\n",
       "    <tr style=\"text-align: right;\">\n",
       "      <th></th>\n",
       "      <th>0</th>\n",
       "    </tr>\n",
       "  </thead>\n",
       "  <tbody>\n",
       "    <tr>\n",
       "      <th>1 siblings/spouses</th>\n",
       "      <td>1.556513</td>\n",
       "    </tr>\n",
       "    <tr>\n",
       "      <th>0 siblings/spouses</th>\n",
       "      <td>1.460606</td>\n",
       "    </tr>\n",
       "    <tr>\n",
       "      <th>female</th>\n",
       "      <td>1.333555</td>\n",
       "    </tr>\n",
       "    <tr>\n",
       "      <th>2 siblings/spouses</th>\n",
       "      <td>1.168082</td>\n",
       "    </tr>\n",
       "    <tr>\n",
       "      <th>1 parents/children</th>\n",
       "      <td>1.099512</td>\n",
       "    </tr>\n",
       "    <tr>\n",
       "      <th>class 1</th>\n",
       "      <td>1.012255</td>\n",
       "    </tr>\n",
       "    <tr>\n",
       "      <th>3 parents/children</th>\n",
       "      <td>0.949705</td>\n",
       "    </tr>\n",
       "    <tr>\n",
       "      <th>2 parents/children</th>\n",
       "      <td>0.759230</td>\n",
       "    </tr>\n",
       "    <tr>\n",
       "      <th>0 parents/children</th>\n",
       "      <td>0.730630</td>\n",
       "    </tr>\n",
       "    <tr>\n",
       "      <th>Port Q</th>\n",
       "      <td>0.177195</td>\n",
       "    </tr>\n",
       "    <tr>\n",
       "      <th>Port C</th>\n",
       "      <td>0.081200</td>\n",
       "    </tr>\n",
       "    <tr>\n",
       "      <th>fare</th>\n",
       "      <td>0.050241</td>\n",
       "    </tr>\n",
       "    <tr>\n",
       "      <th>class 2</th>\n",
       "      <td>0.033810</td>\n",
       "    </tr>\n",
       "    <tr>\n",
       "      <th>4 siblings/spouses</th>\n",
       "      <td>-0.187194</td>\n",
       "    </tr>\n",
       "    <tr>\n",
       "      <th>Port S</th>\n",
       "      <td>-0.246583</td>\n",
       "    </tr>\n",
       "    <tr>\n",
       "      <th>5 parents/children</th>\n",
       "      <td>-0.457338</td>\n",
       "    </tr>\n",
       "    <tr>\n",
       "      <th>age</th>\n",
       "      <td>-0.479746</td>\n",
       "    </tr>\n",
       "    <tr>\n",
       "      <th>3 siblings/spouses</th>\n",
       "      <td>-0.658053</td>\n",
       "    </tr>\n",
       "    <tr>\n",
       "      <th>class 3</th>\n",
       "      <td>-1.034253</td>\n",
       "    </tr>\n",
       "    <tr>\n",
       "      <th>6 parents/children</th>\n",
       "      <td>-1.218722</td>\n",
       "    </tr>\n",
       "    <tr>\n",
       "      <th>male</th>\n",
       "      <td>-1.321743</td>\n",
       "    </tr>\n",
       "    <tr>\n",
       "      <th>5 siblings/spouses</th>\n",
       "      <td>-1.521003</td>\n",
       "    </tr>\n",
       "    <tr>\n",
       "      <th>8 siblings/spouses</th>\n",
       "      <td>-1.807141</td>\n",
       "    </tr>\n",
       "    <tr>\n",
       "      <th>4 parents/children</th>\n",
       "      <td>-1.851206</td>\n",
       "    </tr>\n",
       "  </tbody>\n",
       "</table>\n",
       "</div>"
      ],
      "text/plain": [
       "                           0\n",
       "1 siblings/spouses  1.556513\n",
       "0 siblings/spouses  1.460606\n",
       "female              1.333555\n",
       "2 siblings/spouses  1.168082\n",
       "1 parents/children  1.099512\n",
       "class 1             1.012255\n",
       "3 parents/children  0.949705\n",
       "2 parents/children  0.759230\n",
       "0 parents/children  0.730630\n",
       "Port Q              0.177195\n",
       "Port C              0.081200\n",
       "fare                0.050241\n",
       "class 2             0.033810\n",
       "4 siblings/spouses -0.187194\n",
       "Port S             -0.246583\n",
       "5 parents/children -0.457338\n",
       "age                -0.479746\n",
       "3 siblings/spouses -0.658053\n",
       "class 3            -1.034253\n",
       "6 parents/children -1.218722\n",
       "male               -1.321743\n",
       "5 siblings/spouses -1.521003\n",
       "8 siblings/spouses -1.807141\n",
       "4 parents/children -1.851206"
      ]
     },
     "execution_count": 24,
     "metadata": {},
     "output_type": "execute_result"
    }
   ],
   "source": [
    "cv.best_estimator_.named_steps['logistic_model'].coef_\n",
    "# cv.best_estimator_.named_steps['logistic_model'].intercept_\n",
    "\n",
    "classes = ['class '+str(num) for num in sorted(df.Pclass.unique())]\n",
    "port = ['Port '+port for port in sorted(df.Embarked.unique())]\n",
    "num_sibsp = [str(num)+' siblings/spouses' for num in sorted(df.SibSp.unique())]\n",
    "num_parch = [str(num)+' parents/children' for num in sorted(df.Parch.unique())]\n",
    "\n",
    "# table of coefficients (approx variable importance)\n",
    "pd.DataFrame(data=cv.best_estimator_.named_steps['logistic_model'].coef_,\n",
    "            columns=['age','fare','female','male']+classes+port+num_sibsp+num_parch).T.sort_values(by=0,ascending=False)"
   ]
  },
  {
   "cell_type": "code",
   "execution_count": null,
   "metadata": {},
   "outputs": [],
   "source": []
  },
  {
   "cell_type": "code",
   "execution_count": 218,
   "metadata": {},
   "outputs": [],
   "source": [
    "#coefs = pd.DataFrame(data=cv.best_estimator_.named_steps['logistic_model'].coef_,\n",
    "#            columns=['age','fare','female','male']+classes+port+num_sibsp+num_parch)\n",
    "# ids = coefs.loc[0].abs().values.argsort()\n",
    "# coefs.iloc[0,ids]\n",
    "# dummy.fit_transform(df['Embarked'].values.reshape(-1,1))"
   ]
  },
  {
   "cell_type": "code",
   "execution_count": 376,
   "metadata": {},
   "outputs": [
    {
     "data": {
      "text/plain": [
       "\"best penalty parameter:{'knn_model__n_neighbors': 3}\""
      ]
     },
     "metadata": {},
     "output_type": "display_data"
    },
    {
     "data": {
      "text/plain": [
       "'best score:0.8043'"
      ]
     },
     "metadata": {},
     "output_type": "display_data"
    }
   ],
   "source": [
    "knn = Pipeline([\n",
    "    ('preprocess_cols',ColumnTransformer([('num_cols',RobustScaler(),['Age','Fare']),\n",
    "                                          ('cat_cols',dummy,['Sex','Pclass','Embarked','SibSp','Parch'])])\n",
    "    ),\n",
    "    ('knn_model',KNeighborsClassifier())\n",
    "])\n",
    "\n",
    "\n",
    "cv = GridSearchCV(knn,                               \n",
    "            param_grid={'knn_model__n_neighbors': [k for k in range(1,11)]},# [0.001,0.01,0.1,1,10,100,1000]\n",
    "             cv=10)\n",
    "cv.fit(df[predictors],df['Survived'])\n",
    "\n",
    "display(f'best penalty parameter:{cv.best_params_}')\n",
    "display(f'best score:{round(cv.best_score_,4)}')"
   ]
  },
  {
   "cell_type": "code",
   "execution_count": 390,
   "metadata": {},
   "outputs": [],
   "source": [
    "from sklearn.ensemble import VotingClassifier\n",
    "\n",
    "logistic.set_params(logistic_model__C=10)\n",
    "knn.set_params(knn_model__n_neighbors=3)\n",
    "\n",
    "clf3 = VotingClassifier(estimators=[('classifier_1',logistic),\n",
    "                                   ('classifier_2',knn)],\n",
    "                       voting='soft', # averaging probab values?\n",
    "                       weights=[0.5,0.5]) # equal importance\n",
    "\n",
    "clf3.fit(df[predictors],df['Survived']);"
   ]
  },
  {
   "cell_type": "code",
   "execution_count": 396,
   "metadata": {},
   "outputs": [
    {
     "data": {
      "text/plain": [
       "0.8177860061287028"
      ]
     },
     "execution_count": 396,
     "metadata": {},
     "output_type": "execute_result"
    }
   ],
   "source": [
    "from sklearn.model_selection import cross_val_score\n",
    "\n",
    "cross_val_score(clf3,df[predictors],df['Survived'],cv=10).mean()"
   ]
  },
  {
   "cell_type": "markdown",
   "metadata": {},
   "source": [
    "That's a simple model, we can do it better"
   ]
  },
  {
   "cell_type": "code",
   "execution_count": 289,
   "metadata": {},
   "outputs": [
    {
     "data": {
      "text/plain": [
       "DesignMatrix with shape (889, 6)\n",
       "  Columns:\n",
       "    ['C(Sex)[female]:C(Pclass)[1]',\n",
       "     'C(Sex)[male]:C(Pclass)[1]',\n",
       "     'C(Sex)[female]:C(Pclass)[2]',\n",
       "     'C(Sex)[male]:C(Pclass)[2]',\n",
       "     'C(Sex)[female]:C(Pclass)[3]',\n",
       "     'C(Sex)[male]:C(Pclass)[3]']\n",
       "  Terms:\n",
       "    'C(Sex):C(Pclass)' (columns 0:6)\n",
       "  (to view full data, use np.asarray(this_obj))"
      ]
     },
     "execution_count": 289,
     "metadata": {},
     "output_type": "execute_result"
    }
   ],
   "source": [
    "# from exploratory analysis we know there might be some interesting syntethic features\n",
    "\n",
    "from patsy import dmatrix,dmatrices\n",
    "inter_term = dmatrix('C(Sex):C(Pclass)-1',data=df[['Sex','Pclass']])\n",
    "inter_term"
   ]
  },
  {
   "cell_type": "code",
   "execution_count": 288,
   "metadata": {},
   "outputs": [],
   "source": [
    "inter_names = ['sex*class'+str(a)+str(b) for a,b in product(range(1,3),range(1,4))]\n",
    "inter_vars = pd.DataFrame(inter_term,\n",
    "                          columns=inter_names)\n",
    "df2 = pd.concat([df,inter_vars],axis=1)\n",
    "#df2.head()"
   ]
  },
  {
   "cell_type": "code",
   "execution_count": 286,
   "metadata": {},
   "outputs": [
    {
     "data": {
      "text/plain": [
       "array([[-0.59223982, -0.31181344],\n",
       "       [ 0.63852941,  2.45968698],\n",
       "       [-0.28454751, -0.28259797],\n",
       "       ...,\n",
       "       [ 0.        ,  0.38935778],\n",
       "       [-0.28454751,  0.67285602],\n",
       "       [ 0.17699095, -0.29017235]])"
      ]
     },
     "execution_count": 286,
     "metadata": {},
     "output_type": "execute_result"
    }
   ],
   "source": [
    "RobustScaler().fit_transform(df[['Age','Fare']])"
   ]
  },
  {
   "cell_type": "code",
   "execution_count": 368,
   "metadata": {},
   "outputs": [
    {
     "data": {
      "text/plain": [
       "DesignMatrix with shape (889, 12)\n",
       "  Columns:\n",
       "    ['C(Sex)[female]',\n",
       "     'C(Sex)[male]',\n",
       "     'C(Pclass)[T.2]',\n",
       "     'C(Pclass)[T.3]',\n",
       "     'C(Embarked)[T.Q]',\n",
       "     'C(Embarked)[T.S]',\n",
       "     'C(Sex)[T.male]:C(Pclass)[T.2]',\n",
       "     'C(Sex)[T.male]:C(Pclass)[T.3]',\n",
       "     'Age',\n",
       "     'Fare',\n",
       "     'SibSp',\n",
       "     'Parch']\n",
       "  Terms:\n",
       "    'C(Sex)' (columns 0:2)\n",
       "    'C(Pclass)' (columns 2:4)\n",
       "    'C(Embarked)' (columns 4:6)\n",
       "    'C(Sex):C(Pclass)' (columns 6:8)\n",
       "    'Age' (column 8)\n",
       "    'Fare' (column 9)\n",
       "    'SibSp' (column 10)\n",
       "    'Parch' (column 11)\n",
       "  (to view full data, use np.asarray(this_obj))"
      ]
     },
     "execution_count": 368,
     "metadata": {},
     "output_type": "execute_result"
    }
   ],
   "source": [
    "df[['Age','Fare']] = RobustScaler().fit_transform(df[['Age','Fare']])\n",
    "y,X = dmatrices('Survived~Age+Fare+C(Sex)*C(Pclass)+C(Embarked)+SibSp+Parch-1',df)\n",
    "d = pd.DataFrame(X)\n",
    "X"
   ]
  },
  {
   "cell_type": "code",
   "execution_count": 369,
   "metadata": {},
   "outputs": [],
   "source": [
    "# pd.get_dummies(df,columns=['Sex','Pclass','Embarked','SibSp','Parch']).drop(columns=['index','PassengerId','Name','Ticket','Cabin'])"
   ]
  },
  {
   "cell_type": "code",
   "execution_count": 370,
   "metadata": {},
   "outputs": [
    {
     "data": {
      "text/plain": [
       "GridSearchCV(cv=10, estimator=LogisticRegression(max_iter=1000),\n",
       "             param_grid={'C': array([1.e-03, 1.e-02, 1.e-01, 1.e+00, 1.e+01, 1.e+02, 1.e+03])})"
      ]
     },
     "execution_count": 370,
     "metadata": {},
     "output_type": "execute_result"
    }
   ],
   "source": [
    "cv2 = GridSearchCV(LogisticRegression(max_iter=1000),\n",
    "                  param_grid={'C': np.logspace(-3,3,7)},# [0.001,0.01,0.1,1,10,100,1000]\n",
    "                  cv=10)\n",
    "cv2.fit(np.asarray(X),np.ravel(y))"
   ]
  },
  {
   "cell_type": "code",
   "execution_count": 371,
   "metadata": {},
   "outputs": [
    {
     "data": {
      "text/plain": [
       "\"best penalty parameter:{'C': 1.0}\""
      ]
     },
     "metadata": {},
     "output_type": "display_data"
    },
    {
     "data": {
      "text/plain": [
       "'best score:0.8077'"
      ]
     },
     "metadata": {},
     "output_type": "display_data"
    }
   ],
   "source": [
    "display(f'best penalty parameter:{cv2.best_params_}')\n",
    "display(f'best score:{round(cv2.best_score_,4)}')"
   ]
  },
  {
   "cell_type": "code",
   "execution_count": 367,
   "metadata": {},
   "outputs": [
    {
     "data": {
      "text/html": [
       "<div>\n",
       "<style scoped>\n",
       "    .dataframe tbody tr th:only-of-type {\n",
       "        vertical-align: middle;\n",
       "    }\n",
       "\n",
       "    .dataframe tbody tr th {\n",
       "        vertical-align: top;\n",
       "    }\n",
       "\n",
       "    .dataframe thead th {\n",
       "        text-align: right;\n",
       "    }\n",
       "</style>\n",
       "<table border=\"1\" class=\"dataframe\">\n",
       "  <thead>\n",
       "    <tr style=\"text-align: right;\">\n",
       "      <th></th>\n",
       "      <th>mean_fit_time</th>\n",
       "      <th>std_fit_time</th>\n",
       "      <th>mean_score_time</th>\n",
       "      <th>std_score_time</th>\n",
       "      <th>param_C</th>\n",
       "      <th>params</th>\n",
       "      <th>split0_test_score</th>\n",
       "      <th>split1_test_score</th>\n",
       "      <th>split2_test_score</th>\n",
       "      <th>split3_test_score</th>\n",
       "      <th>split4_test_score</th>\n",
       "      <th>split5_test_score</th>\n",
       "      <th>split6_test_score</th>\n",
       "      <th>split7_test_score</th>\n",
       "      <th>split8_test_score</th>\n",
       "      <th>split9_test_score</th>\n",
       "      <th>mean_test_score</th>\n",
       "      <th>std_test_score</th>\n",
       "      <th>rank_test_score</th>\n",
       "    </tr>\n",
       "  </thead>\n",
       "  <tbody>\n",
       "    <tr>\n",
       "      <th>0</th>\n",
       "      <td>0.007816</td>\n",
       "      <td>0.003212</td>\n",
       "      <td>0.000730</td>\n",
       "      <td>0.001360</td>\n",
       "      <td>0.001</td>\n",
       "      <td>{'C': 0.001}</td>\n",
       "      <td>0.617978</td>\n",
       "      <td>0.629213</td>\n",
       "      <td>0.662921</td>\n",
       "      <td>0.719101</td>\n",
       "      <td>0.617978</td>\n",
       "      <td>0.595506</td>\n",
       "      <td>0.629213</td>\n",
       "      <td>0.662921</td>\n",
       "      <td>0.696629</td>\n",
       "      <td>0.625000</td>\n",
       "      <td>0.645646</td>\n",
       "      <td>0.036883</td>\n",
       "      <td>7</td>\n",
       "    </tr>\n",
       "    <tr>\n",
       "      <th>1</th>\n",
       "      <td>0.011870</td>\n",
       "      <td>0.003148</td>\n",
       "      <td>0.001271</td>\n",
       "      <td>0.002364</td>\n",
       "      <td>0.01</td>\n",
       "      <td>{'C': 0.01}</td>\n",
       "      <td>0.741573</td>\n",
       "      <td>0.741573</td>\n",
       "      <td>0.752809</td>\n",
       "      <td>0.842697</td>\n",
       "      <td>0.786517</td>\n",
       "      <td>0.775281</td>\n",
       "      <td>0.808989</td>\n",
       "      <td>0.741573</td>\n",
       "      <td>0.842697</td>\n",
       "      <td>0.818182</td>\n",
       "      <td>0.785189</td>\n",
       "      <td>0.038890</td>\n",
       "      <td>6</td>\n",
       "    </tr>\n",
       "    <tr>\n",
       "      <th>2</th>\n",
       "      <td>0.020390</td>\n",
       "      <td>0.008916</td>\n",
       "      <td>0.001039</td>\n",
       "      <td>0.002483</td>\n",
       "      <td>0.1</td>\n",
       "      <td>{'C': 0.1}</td>\n",
       "      <td>0.797753</td>\n",
       "      <td>0.808989</td>\n",
       "      <td>0.764045</td>\n",
       "      <td>0.865169</td>\n",
       "      <td>0.786517</td>\n",
       "      <td>0.764045</td>\n",
       "      <td>0.786517</td>\n",
       "      <td>0.764045</td>\n",
       "      <td>0.853933</td>\n",
       "      <td>0.818182</td>\n",
       "      <td>0.800919</td>\n",
       "      <td>0.034359</td>\n",
       "      <td>3</td>\n",
       "    </tr>\n",
       "    <tr>\n",
       "      <th>3</th>\n",
       "      <td>0.029768</td>\n",
       "      <td>0.008930</td>\n",
       "      <td>0.000901</td>\n",
       "      <td>0.002389</td>\n",
       "      <td>1</td>\n",
       "      <td>{'C': 1.0}</td>\n",
       "      <td>0.775281</td>\n",
       "      <td>0.797753</td>\n",
       "      <td>0.764045</td>\n",
       "      <td>0.842697</td>\n",
       "      <td>0.797753</td>\n",
       "      <td>0.775281</td>\n",
       "      <td>0.786517</td>\n",
       "      <td>0.775281</td>\n",
       "      <td>0.831461</td>\n",
       "      <td>0.852273</td>\n",
       "      <td>0.799834</td>\n",
       "      <td>0.029770</td>\n",
       "      <td>4</td>\n",
       "    </tr>\n",
       "    <tr>\n",
       "      <th>4</th>\n",
       "      <td>0.039351</td>\n",
       "      <td>0.007831</td>\n",
       "      <td>0.000103</td>\n",
       "      <td>0.000309</td>\n",
       "      <td>10</td>\n",
       "      <td>{'C': 10.0}</td>\n",
       "      <td>0.775281</td>\n",
       "      <td>0.797753</td>\n",
       "      <td>0.764045</td>\n",
       "      <td>0.808989</td>\n",
       "      <td>0.797753</td>\n",
       "      <td>0.775281</td>\n",
       "      <td>0.786517</td>\n",
       "      <td>0.797753</td>\n",
       "      <td>0.831461</td>\n",
       "      <td>0.852273</td>\n",
       "      <td>0.798710</td>\n",
       "      <td>0.025491</td>\n",
       "      <td>5</td>\n",
       "    </tr>\n",
       "    <tr>\n",
       "      <th>5</th>\n",
       "      <td>0.024785</td>\n",
       "      <td>0.010861</td>\n",
       "      <td>0.000000</td>\n",
       "      <td>0.000000</td>\n",
       "      <td>100</td>\n",
       "      <td>{'C': 100.0}</td>\n",
       "      <td>0.786517</td>\n",
       "      <td>0.797753</td>\n",
       "      <td>0.764045</td>\n",
       "      <td>0.820225</td>\n",
       "      <td>0.797753</td>\n",
       "      <td>0.775281</td>\n",
       "      <td>0.786517</td>\n",
       "      <td>0.797753</td>\n",
       "      <td>0.831461</td>\n",
       "      <td>0.852273</td>\n",
       "      <td>0.800958</td>\n",
       "      <td>0.025307</td>\n",
       "      <td>1</td>\n",
       "    </tr>\n",
       "    <tr>\n",
       "      <th>6</th>\n",
       "      <td>0.026450</td>\n",
       "      <td>0.007008</td>\n",
       "      <td>0.000000</td>\n",
       "      <td>0.000000</td>\n",
       "      <td>1000</td>\n",
       "      <td>{'C': 1000.0}</td>\n",
       "      <td>0.786517</td>\n",
       "      <td>0.797753</td>\n",
       "      <td>0.764045</td>\n",
       "      <td>0.820225</td>\n",
       "      <td>0.797753</td>\n",
       "      <td>0.775281</td>\n",
       "      <td>0.786517</td>\n",
       "      <td>0.797753</td>\n",
       "      <td>0.831461</td>\n",
       "      <td>0.852273</td>\n",
       "      <td>0.800958</td>\n",
       "      <td>0.025307</td>\n",
       "      <td>1</td>\n",
       "    </tr>\n",
       "  </tbody>\n",
       "</table>\n",
       "</div>"
      ],
      "text/plain": [
       "   mean_fit_time  std_fit_time  mean_score_time  std_score_time param_C  \\\n",
       "0       0.007816      0.003212         0.000730        0.001360   0.001   \n",
       "1       0.011870      0.003148         0.001271        0.002364    0.01   \n",
       "2       0.020390      0.008916         0.001039        0.002483     0.1   \n",
       "3       0.029768      0.008930         0.000901        0.002389       1   \n",
       "4       0.039351      0.007831         0.000103        0.000309      10   \n",
       "5       0.024785      0.010861         0.000000        0.000000     100   \n",
       "6       0.026450      0.007008         0.000000        0.000000    1000   \n",
       "\n",
       "          params  split0_test_score  split1_test_score  split2_test_score  \\\n",
       "0   {'C': 0.001}           0.617978           0.629213           0.662921   \n",
       "1    {'C': 0.01}           0.741573           0.741573           0.752809   \n",
       "2     {'C': 0.1}           0.797753           0.808989           0.764045   \n",
       "3     {'C': 1.0}           0.775281           0.797753           0.764045   \n",
       "4    {'C': 10.0}           0.775281           0.797753           0.764045   \n",
       "5   {'C': 100.0}           0.786517           0.797753           0.764045   \n",
       "6  {'C': 1000.0}           0.786517           0.797753           0.764045   \n",
       "\n",
       "   split3_test_score  split4_test_score  split5_test_score  split6_test_score  \\\n",
       "0           0.719101           0.617978           0.595506           0.629213   \n",
       "1           0.842697           0.786517           0.775281           0.808989   \n",
       "2           0.865169           0.786517           0.764045           0.786517   \n",
       "3           0.842697           0.797753           0.775281           0.786517   \n",
       "4           0.808989           0.797753           0.775281           0.786517   \n",
       "5           0.820225           0.797753           0.775281           0.786517   \n",
       "6           0.820225           0.797753           0.775281           0.786517   \n",
       "\n",
       "   split7_test_score  split8_test_score  split9_test_score  mean_test_score  \\\n",
       "0           0.662921           0.696629           0.625000         0.645646   \n",
       "1           0.741573           0.842697           0.818182         0.785189   \n",
       "2           0.764045           0.853933           0.818182         0.800919   \n",
       "3           0.775281           0.831461           0.852273         0.799834   \n",
       "4           0.797753           0.831461           0.852273         0.798710   \n",
       "5           0.797753           0.831461           0.852273         0.800958   \n",
       "6           0.797753           0.831461           0.852273         0.800958   \n",
       "\n",
       "   std_test_score  rank_test_score  \n",
       "0        0.036883                7  \n",
       "1        0.038890                6  \n",
       "2        0.034359                3  \n",
       "3        0.029770                4  \n",
       "4        0.025491                5  \n",
       "5        0.025307                1  \n",
       "6        0.025307                1  "
      ]
     },
     "execution_count": 367,
     "metadata": {},
     "output_type": "execute_result"
    }
   ],
   "source": [
    "pd.DataFrame(cv2.cv_results_)"
   ]
  },
  {
   "cell_type": "code",
   "execution_count": null,
   "metadata": {},
   "outputs": [],
   "source": []
  }
 ],
 "metadata": {
  "kernelspec": {
   "display_name": "Python 3",
   "language": "python",
   "name": "python3"
  },
  "language_info": {
   "codemirror_mode": {
    "name": "ipython",
    "version": 3
   },
   "file_extension": ".py",
   "mimetype": "text/x-python",
   "name": "python",
   "nbconvert_exporter": "python",
   "pygments_lexer": "ipython3",
   "version": "3.7.7"
  }
 },
 "nbformat": 4,
 "nbformat_minor": 4
}
